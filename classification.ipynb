{
  "nbformat": 4,
  "nbformat_minor": 0,
  "metadata": {
    "colab": {
      "provenance": [],
      "authorship_tag": "ABX9TyP+3dOSYuUlTi28PeMuOwoC",
      "include_colab_link": true
    },
    "kernelspec": {
      "name": "python3",
      "display_name": "Python 3"
    },
    "language_info": {
      "name": "python"
    }
  },
  "cells": [
    {
      "cell_type": "markdown",
      "metadata": {
        "id": "view-in-github",
        "colab_type": "text"
      },
      "source": [
        "<a href=\"https://colab.research.google.com/github/danieltodaDS/ML-Fundamentals/blob/main/classification.ipynb\" target=\"_parent\"><img src=\"https://colab.research.google.com/assets/colab-badge.svg\" alt=\"Open In Colab\"/></a>"
      ]
    },
    {
      "cell_type": "markdown",
      "source": [
        "# Import"
      ],
      "metadata": {
        "id": "U_2MA_FVooJn"
      }
    },
    {
      "cell_type": "code",
      "execution_count": 90,
      "metadata": {
        "id": "Vjoa3oEiiN8u"
      },
      "outputs": [],
      "source": [
        "import pandas as pd\n",
        "from sklearn.neighbors import KNeighborsClassifier\n",
        "from matplotlib import pyplot as plt\n",
        "from sklearn import metrics as mt"
      ]
    },
    {
      "cell_type": "markdown",
      "source": [
        "\n",
        "# Load Dataset"
      ],
      "metadata": {
        "id": "acjDtUDzouvw"
      }
    },
    {
      "cell_type": "code",
      "source": [
        "from google.colab import files\n",
        "uploaded = files.upload()"
      ],
      "metadata": {
        "id": "kBqRPp5IjdE6"
      },
      "execution_count": null,
      "outputs": []
    },
    {
      "cell_type": "code",
      "source": [
        "import io \n",
        "data = pd.read_csv(io.BytesIO(uploaded['train.csv']))"
      ],
      "metadata": {
        "id": "0PrUSWxNnXG1"
      },
      "execution_count": 51,
      "outputs": []
    },
    {
      "cell_type": "code",
      "source": [
        "data.head()"
      ],
      "metadata": {
        "colab": {
          "base_uri": "https://localhost:8080/",
          "height": 270
        },
        "id": "p5FpaH2EoUMG",
        "outputId": "9ccc0568-2a3e-40b9-b36e-caf919bc476b"
      },
      "execution_count": 52,
      "outputs": [
        {
          "output_type": "execute_result",
          "data": {
            "text/plain": [
              "   id_cliente  idade  saldo_atual  divida_atual  renda_anual  \\\n",
              "0        1767     21   278.172008       2577.05  24196.89636   \n",
              "1       11920     40   268.874152       2465.39  19227.37796   \n",
              "2        8910     36   446.643127       1055.29  42822.28223   \n",
              "3        4964     58   321.141267        703.05  51786.82600   \n",
              "4       10100     35   428.716114        891.29  44626.85346   \n",
              "\n",
              "   valor_em_investimentos  taxa_utilizacao_credito  num_emprestimos  \\\n",
              "0              104.306544                31.038763                6   \n",
              "1               69.858778                36.917093                5   \n",
              "2              134.201478                34.561714                0   \n",
              "3              297.350067                31.493561                0   \n",
              "4              134.201478                28.028887                2   \n",
              "\n",
              "   num_contas_bancarias  num_cartoes_credito  dias_atraso_dt_venc  \\\n",
              "0                     5                    7                   21   \n",
              "1                     8                    5                   40   \n",
              "2                     3                    6                   26   \n",
              "3                     3                    7                   12   \n",
              "4                     8                    7                   24   \n",
              "\n",
              "   num_pgtos_atrasados  num_consultas_credito  taxa_juros investe_exterior  \\\n",
              "0                   14                      9          15              Não   \n",
              "1                   23                     10          18              Não   \n",
              "2                   13                      3          15              Sim   \n",
              "3                    7                      2           1              Sim   \n",
              "4                   10                      8          20              Sim   \n",
              "\n",
              "  pessoa_polit_exp limite_adicional  \n",
              "0              Não            Negar  \n",
              "1              Não            Negar  \n",
              "2              Não            Negar  \n",
              "3              Não            Negar  \n",
              "4              Não            Negar  "
            ],
            "text/html": [
              "\n",
              "  <div id=\"df-6f1e6164-633e-4f9a-aef6-92a7a041a099\">\n",
              "    <div class=\"colab-df-container\">\n",
              "      <div>\n",
              "<style scoped>\n",
              "    .dataframe tbody tr th:only-of-type {\n",
              "        vertical-align: middle;\n",
              "    }\n",
              "\n",
              "    .dataframe tbody tr th {\n",
              "        vertical-align: top;\n",
              "    }\n",
              "\n",
              "    .dataframe thead th {\n",
              "        text-align: right;\n",
              "    }\n",
              "</style>\n",
              "<table border=\"1\" class=\"dataframe\">\n",
              "  <thead>\n",
              "    <tr style=\"text-align: right;\">\n",
              "      <th></th>\n",
              "      <th>id_cliente</th>\n",
              "      <th>idade</th>\n",
              "      <th>saldo_atual</th>\n",
              "      <th>divida_atual</th>\n",
              "      <th>renda_anual</th>\n",
              "      <th>valor_em_investimentos</th>\n",
              "      <th>taxa_utilizacao_credito</th>\n",
              "      <th>num_emprestimos</th>\n",
              "      <th>num_contas_bancarias</th>\n",
              "      <th>num_cartoes_credito</th>\n",
              "      <th>dias_atraso_dt_venc</th>\n",
              "      <th>num_pgtos_atrasados</th>\n",
              "      <th>num_consultas_credito</th>\n",
              "      <th>taxa_juros</th>\n",
              "      <th>investe_exterior</th>\n",
              "      <th>pessoa_polit_exp</th>\n",
              "      <th>limite_adicional</th>\n",
              "    </tr>\n",
              "  </thead>\n",
              "  <tbody>\n",
              "    <tr>\n",
              "      <th>0</th>\n",
              "      <td>1767</td>\n",
              "      <td>21</td>\n",
              "      <td>278.172008</td>\n",
              "      <td>2577.05</td>\n",
              "      <td>24196.89636</td>\n",
              "      <td>104.306544</td>\n",
              "      <td>31.038763</td>\n",
              "      <td>6</td>\n",
              "      <td>5</td>\n",
              "      <td>7</td>\n",
              "      <td>21</td>\n",
              "      <td>14</td>\n",
              "      <td>9</td>\n",
              "      <td>15</td>\n",
              "      <td>Não</td>\n",
              "      <td>Não</td>\n",
              "      <td>Negar</td>\n",
              "    </tr>\n",
              "    <tr>\n",
              "      <th>1</th>\n",
              "      <td>11920</td>\n",
              "      <td>40</td>\n",
              "      <td>268.874152</td>\n",
              "      <td>2465.39</td>\n",
              "      <td>19227.37796</td>\n",
              "      <td>69.858778</td>\n",
              "      <td>36.917093</td>\n",
              "      <td>5</td>\n",
              "      <td>8</td>\n",
              "      <td>5</td>\n",
              "      <td>40</td>\n",
              "      <td>23</td>\n",
              "      <td>10</td>\n",
              "      <td>18</td>\n",
              "      <td>Não</td>\n",
              "      <td>Não</td>\n",
              "      <td>Negar</td>\n",
              "    </tr>\n",
              "    <tr>\n",
              "      <th>2</th>\n",
              "      <td>8910</td>\n",
              "      <td>36</td>\n",
              "      <td>446.643127</td>\n",
              "      <td>1055.29</td>\n",
              "      <td>42822.28223</td>\n",
              "      <td>134.201478</td>\n",
              "      <td>34.561714</td>\n",
              "      <td>0</td>\n",
              "      <td>3</td>\n",
              "      <td>6</td>\n",
              "      <td>26</td>\n",
              "      <td>13</td>\n",
              "      <td>3</td>\n",
              "      <td>15</td>\n",
              "      <td>Sim</td>\n",
              "      <td>Não</td>\n",
              "      <td>Negar</td>\n",
              "    </tr>\n",
              "    <tr>\n",
              "      <th>3</th>\n",
              "      <td>4964</td>\n",
              "      <td>58</td>\n",
              "      <td>321.141267</td>\n",
              "      <td>703.05</td>\n",
              "      <td>51786.82600</td>\n",
              "      <td>297.350067</td>\n",
              "      <td>31.493561</td>\n",
              "      <td>0</td>\n",
              "      <td>3</td>\n",
              "      <td>7</td>\n",
              "      <td>12</td>\n",
              "      <td>7</td>\n",
              "      <td>2</td>\n",
              "      <td>1</td>\n",
              "      <td>Sim</td>\n",
              "      <td>Não</td>\n",
              "      <td>Negar</td>\n",
              "    </tr>\n",
              "    <tr>\n",
              "      <th>4</th>\n",
              "      <td>10100</td>\n",
              "      <td>35</td>\n",
              "      <td>428.716114</td>\n",
              "      <td>891.29</td>\n",
              "      <td>44626.85346</td>\n",
              "      <td>134.201478</td>\n",
              "      <td>28.028887</td>\n",
              "      <td>2</td>\n",
              "      <td>8</td>\n",
              "      <td>7</td>\n",
              "      <td>24</td>\n",
              "      <td>10</td>\n",
              "      <td>8</td>\n",
              "      <td>20</td>\n",
              "      <td>Sim</td>\n",
              "      <td>Não</td>\n",
              "      <td>Negar</td>\n",
              "    </tr>\n",
              "  </tbody>\n",
              "</table>\n",
              "</div>\n",
              "      <button class=\"colab-df-convert\" onclick=\"convertToInteractive('df-6f1e6164-633e-4f9a-aef6-92a7a041a099')\"\n",
              "              title=\"Convert this dataframe to an interactive table.\"\n",
              "              style=\"display:none;\">\n",
              "        \n",
              "  <svg xmlns=\"http://www.w3.org/2000/svg\" height=\"24px\"viewBox=\"0 0 24 24\"\n",
              "       width=\"24px\">\n",
              "    <path d=\"M0 0h24v24H0V0z\" fill=\"none\"/>\n",
              "    <path d=\"M18.56 5.44l.94 2.06.94-2.06 2.06-.94-2.06-.94-.94-2.06-.94 2.06-2.06.94zm-11 1L8.5 8.5l.94-2.06 2.06-.94-2.06-.94L8.5 2.5l-.94 2.06-2.06.94zm10 10l.94 2.06.94-2.06 2.06-.94-2.06-.94-.94-2.06-.94 2.06-2.06.94z\"/><path d=\"M17.41 7.96l-1.37-1.37c-.4-.4-.92-.59-1.43-.59-.52 0-1.04.2-1.43.59L10.3 9.45l-7.72 7.72c-.78.78-.78 2.05 0 2.83L4 21.41c.39.39.9.59 1.41.59.51 0 1.02-.2 1.41-.59l7.78-7.78 2.81-2.81c.8-.78.8-2.07 0-2.86zM5.41 20L4 18.59l7.72-7.72 1.47 1.35L5.41 20z\"/>\n",
              "  </svg>\n",
              "      </button>\n",
              "      \n",
              "  <style>\n",
              "    .colab-df-container {\n",
              "      display:flex;\n",
              "      flex-wrap:wrap;\n",
              "      gap: 12px;\n",
              "    }\n",
              "\n",
              "    .colab-df-convert {\n",
              "      background-color: #E8F0FE;\n",
              "      border: none;\n",
              "      border-radius: 50%;\n",
              "      cursor: pointer;\n",
              "      display: none;\n",
              "      fill: #1967D2;\n",
              "      height: 32px;\n",
              "      padding: 0 0 0 0;\n",
              "      width: 32px;\n",
              "    }\n",
              "\n",
              "    .colab-df-convert:hover {\n",
              "      background-color: #E2EBFA;\n",
              "      box-shadow: 0px 1px 2px rgba(60, 64, 67, 0.3), 0px 1px 3px 1px rgba(60, 64, 67, 0.15);\n",
              "      fill: #174EA6;\n",
              "    }\n",
              "\n",
              "    [theme=dark] .colab-df-convert {\n",
              "      background-color: #3B4455;\n",
              "      fill: #D2E3FC;\n",
              "    }\n",
              "\n",
              "    [theme=dark] .colab-df-convert:hover {\n",
              "      background-color: #434B5C;\n",
              "      box-shadow: 0px 1px 3px 1px rgba(0, 0, 0, 0.15);\n",
              "      filter: drop-shadow(0px 1px 2px rgba(0, 0, 0, 0.3));\n",
              "      fill: #FFFFFF;\n",
              "    }\n",
              "  </style>\n",
              "\n",
              "      <script>\n",
              "        const buttonEl =\n",
              "          document.querySelector('#df-6f1e6164-633e-4f9a-aef6-92a7a041a099 button.colab-df-convert');\n",
              "        buttonEl.style.display =\n",
              "          google.colab.kernel.accessAllowed ? 'block' : 'none';\n",
              "\n",
              "        async function convertToInteractive(key) {\n",
              "          const element = document.querySelector('#df-6f1e6164-633e-4f9a-aef6-92a7a041a099');\n",
              "          const dataTable =\n",
              "            await google.colab.kernel.invokeFunction('convertToInteractive',\n",
              "                                                     [key], {});\n",
              "          if (!dataTable) return;\n",
              "\n",
              "          const docLinkHtml = 'Like what you see? Visit the ' +\n",
              "            '<a target=\"_blank\" href=https://colab.research.google.com/notebooks/data_table.ipynb>data table notebook</a>'\n",
              "            + ' to learn more about interactive tables.';\n",
              "          element.innerHTML = '';\n",
              "          dataTable['output_type'] = 'display_data';\n",
              "          await google.colab.output.renderOutput(dataTable, element);\n",
              "          const docLink = document.createElement('div');\n",
              "          docLink.innerHTML = docLinkHtml;\n",
              "          element.appendChild(docLink);\n",
              "        }\n",
              "      </script>\n",
              "    </div>\n",
              "  </div>\n",
              "  "
            ]
          },
          "metadata": {},
          "execution_count": 52
        }
      ]
    },
    {
      "cell_type": "markdown",
      "source": [
        "\"3 ways to load csv files into colab\"\n",
        "https://towardsdatascience.com/3-ways-to-load-csv-files-into-colab-7c14fcbdcb92"
      ],
      "metadata": {
        "id": "nU_ETBmeo4DG"
      }
    },
    {
      "cell_type": "markdown",
      "source": [
        "# Data Description"
      ],
      "metadata": {
        "id": "6KMPf_ebApoI"
      }
    },
    {
      "cell_type": "code",
      "source": [
        "df = data.copy()"
      ],
      "metadata": {
        "id": "I9xr_hkEAuo7"
      },
      "execution_count": 53,
      "outputs": []
    },
    {
      "cell_type": "code",
      "source": [
        "df.describe()"
      ],
      "metadata": {
        "colab": {
          "base_uri": "https://localhost:8080/",
          "height": 364
        },
        "id": "-gSbn8_ZBMgj",
        "outputId": "294fc29f-ba77-4349-f7e0-e33e7cfee08e"
      },
      "execution_count": 55,
      "outputs": [
        {
          "output_type": "execute_result",
          "data": {
            "text/plain": [
              "         id_cliente        idade  saldo_atual  divida_atual   renda_anual  \\\n",
              "count   9500.000000  9500.000000  9500.000000   9500.000000  9.500000e+03   \n",
              "mean    6210.532947   126.398421   404.532032   1437.086420  1.950373e+05   \n",
              "std     3603.243914   685.036005   217.696725   1156.263217  1.454274e+06   \n",
              "min        1.000000    18.000000     0.088628      0.230000  1.047387e+04   \n",
              "25%     3091.750000    28.000000   272.363060    573.620000  2.620790e+04   \n",
              "50%     6172.500000    38.000000   337.169588   1175.730000  4.599111e+04   \n",
              "75%     9320.250000    47.000000   471.264657   1963.332500  8.044983e+04   \n",
              "max    12500.000000  8598.000000  1602.040519   4998.070000  2.327966e+07   \n",
              "\n",
              "       valor_em_investimentos  taxa_utilizacao_credito  num_emprestimos  \\\n",
              "count             9500.000000              9500.000000      9500.000000   \n",
              "mean               611.999323                32.270823        10.863684   \n",
              "std               2002.443880                 5.106053        62.555417   \n",
              "min                  0.000000                20.992914         0.000000   \n",
              "25%                 76.083981                28.078872         2.000000   \n",
              "50%                134.201478                32.262649         3.000000   \n",
              "75%                249.182915                36.464575         6.000000   \n",
              "max              10000.000000                49.564519      1496.000000   \n",
              "\n",
              "       num_contas_bancarias  num_cartoes_credito  dias_atraso_dt_venc  \\\n",
              "count           9500.000000          9500.000000          9500.000000   \n",
              "mean              17.552316            21.433158            20.990316   \n",
              "std              120.980186           122.677390            14.800612   \n",
              "min                0.000000             1.000000            -5.000000   \n",
              "25%                3.000000             4.000000            10.000000   \n",
              "50%                6.000000             6.000000            18.000000   \n",
              "75%                7.000000             7.000000            28.000000   \n",
              "max             1779.000000          1479.000000            67.000000   \n",
              "\n",
              "       num_pgtos_atrasados  num_consultas_credito   taxa_juros  \n",
              "count          9500.000000            9500.000000  9500.000000  \n",
              "mean             29.832421              24.937158    66.618632  \n",
              "std             222.637763             183.733346   440.118524  \n",
              "min               0.000000               0.000000     1.000000  \n",
              "25%               9.000000               2.000000     8.000000  \n",
              "50%              14.000000               4.000000    14.000000  \n",
              "75%              18.000000               8.000000    20.000000  \n",
              "max            4388.000000            2589.000000  5788.000000  "
            ],
            "text/html": [
              "\n",
              "  <div id=\"df-910bcefb-3e23-48e3-aecb-4bf2e72cc341\">\n",
              "    <div class=\"colab-df-container\">\n",
              "      <div>\n",
              "<style scoped>\n",
              "    .dataframe tbody tr th:only-of-type {\n",
              "        vertical-align: middle;\n",
              "    }\n",
              "\n",
              "    .dataframe tbody tr th {\n",
              "        vertical-align: top;\n",
              "    }\n",
              "\n",
              "    .dataframe thead th {\n",
              "        text-align: right;\n",
              "    }\n",
              "</style>\n",
              "<table border=\"1\" class=\"dataframe\">\n",
              "  <thead>\n",
              "    <tr style=\"text-align: right;\">\n",
              "      <th></th>\n",
              "      <th>id_cliente</th>\n",
              "      <th>idade</th>\n",
              "      <th>saldo_atual</th>\n",
              "      <th>divida_atual</th>\n",
              "      <th>renda_anual</th>\n",
              "      <th>valor_em_investimentos</th>\n",
              "      <th>taxa_utilizacao_credito</th>\n",
              "      <th>num_emprestimos</th>\n",
              "      <th>num_contas_bancarias</th>\n",
              "      <th>num_cartoes_credito</th>\n",
              "      <th>dias_atraso_dt_venc</th>\n",
              "      <th>num_pgtos_atrasados</th>\n",
              "      <th>num_consultas_credito</th>\n",
              "      <th>taxa_juros</th>\n",
              "    </tr>\n",
              "  </thead>\n",
              "  <tbody>\n",
              "    <tr>\n",
              "      <th>count</th>\n",
              "      <td>9500.000000</td>\n",
              "      <td>9500.000000</td>\n",
              "      <td>9500.000000</td>\n",
              "      <td>9500.000000</td>\n",
              "      <td>9.500000e+03</td>\n",
              "      <td>9500.000000</td>\n",
              "      <td>9500.000000</td>\n",
              "      <td>9500.000000</td>\n",
              "      <td>9500.000000</td>\n",
              "      <td>9500.000000</td>\n",
              "      <td>9500.000000</td>\n",
              "      <td>9500.000000</td>\n",
              "      <td>9500.000000</td>\n",
              "      <td>9500.000000</td>\n",
              "    </tr>\n",
              "    <tr>\n",
              "      <th>mean</th>\n",
              "      <td>6210.532947</td>\n",
              "      <td>126.398421</td>\n",
              "      <td>404.532032</td>\n",
              "      <td>1437.086420</td>\n",
              "      <td>1.950373e+05</td>\n",
              "      <td>611.999323</td>\n",
              "      <td>32.270823</td>\n",
              "      <td>10.863684</td>\n",
              "      <td>17.552316</td>\n",
              "      <td>21.433158</td>\n",
              "      <td>20.990316</td>\n",
              "      <td>29.832421</td>\n",
              "      <td>24.937158</td>\n",
              "      <td>66.618632</td>\n",
              "    </tr>\n",
              "    <tr>\n",
              "      <th>std</th>\n",
              "      <td>3603.243914</td>\n",
              "      <td>685.036005</td>\n",
              "      <td>217.696725</td>\n",
              "      <td>1156.263217</td>\n",
              "      <td>1.454274e+06</td>\n",
              "      <td>2002.443880</td>\n",
              "      <td>5.106053</td>\n",
              "      <td>62.555417</td>\n",
              "      <td>120.980186</td>\n",
              "      <td>122.677390</td>\n",
              "      <td>14.800612</td>\n",
              "      <td>222.637763</td>\n",
              "      <td>183.733346</td>\n",
              "      <td>440.118524</td>\n",
              "    </tr>\n",
              "    <tr>\n",
              "      <th>min</th>\n",
              "      <td>1.000000</td>\n",
              "      <td>18.000000</td>\n",
              "      <td>0.088628</td>\n",
              "      <td>0.230000</td>\n",
              "      <td>1.047387e+04</td>\n",
              "      <td>0.000000</td>\n",
              "      <td>20.992914</td>\n",
              "      <td>0.000000</td>\n",
              "      <td>0.000000</td>\n",
              "      <td>1.000000</td>\n",
              "      <td>-5.000000</td>\n",
              "      <td>0.000000</td>\n",
              "      <td>0.000000</td>\n",
              "      <td>1.000000</td>\n",
              "    </tr>\n",
              "    <tr>\n",
              "      <th>25%</th>\n",
              "      <td>3091.750000</td>\n",
              "      <td>28.000000</td>\n",
              "      <td>272.363060</td>\n",
              "      <td>573.620000</td>\n",
              "      <td>2.620790e+04</td>\n",
              "      <td>76.083981</td>\n",
              "      <td>28.078872</td>\n",
              "      <td>2.000000</td>\n",
              "      <td>3.000000</td>\n",
              "      <td>4.000000</td>\n",
              "      <td>10.000000</td>\n",
              "      <td>9.000000</td>\n",
              "      <td>2.000000</td>\n",
              "      <td>8.000000</td>\n",
              "    </tr>\n",
              "    <tr>\n",
              "      <th>50%</th>\n",
              "      <td>6172.500000</td>\n",
              "      <td>38.000000</td>\n",
              "      <td>337.169588</td>\n",
              "      <td>1175.730000</td>\n",
              "      <td>4.599111e+04</td>\n",
              "      <td>134.201478</td>\n",
              "      <td>32.262649</td>\n",
              "      <td>3.000000</td>\n",
              "      <td>6.000000</td>\n",
              "      <td>6.000000</td>\n",
              "      <td>18.000000</td>\n",
              "      <td>14.000000</td>\n",
              "      <td>4.000000</td>\n",
              "      <td>14.000000</td>\n",
              "    </tr>\n",
              "    <tr>\n",
              "      <th>75%</th>\n",
              "      <td>9320.250000</td>\n",
              "      <td>47.000000</td>\n",
              "      <td>471.264657</td>\n",
              "      <td>1963.332500</td>\n",
              "      <td>8.044983e+04</td>\n",
              "      <td>249.182915</td>\n",
              "      <td>36.464575</td>\n",
              "      <td>6.000000</td>\n",
              "      <td>7.000000</td>\n",
              "      <td>7.000000</td>\n",
              "      <td>28.000000</td>\n",
              "      <td>18.000000</td>\n",
              "      <td>8.000000</td>\n",
              "      <td>20.000000</td>\n",
              "    </tr>\n",
              "    <tr>\n",
              "      <th>max</th>\n",
              "      <td>12500.000000</td>\n",
              "      <td>8598.000000</td>\n",
              "      <td>1602.040519</td>\n",
              "      <td>4998.070000</td>\n",
              "      <td>2.327966e+07</td>\n",
              "      <td>10000.000000</td>\n",
              "      <td>49.564519</td>\n",
              "      <td>1496.000000</td>\n",
              "      <td>1779.000000</td>\n",
              "      <td>1479.000000</td>\n",
              "      <td>67.000000</td>\n",
              "      <td>4388.000000</td>\n",
              "      <td>2589.000000</td>\n",
              "      <td>5788.000000</td>\n",
              "    </tr>\n",
              "  </tbody>\n",
              "</table>\n",
              "</div>\n",
              "      <button class=\"colab-df-convert\" onclick=\"convertToInteractive('df-910bcefb-3e23-48e3-aecb-4bf2e72cc341')\"\n",
              "              title=\"Convert this dataframe to an interactive table.\"\n",
              "              style=\"display:none;\">\n",
              "        \n",
              "  <svg xmlns=\"http://www.w3.org/2000/svg\" height=\"24px\"viewBox=\"0 0 24 24\"\n",
              "       width=\"24px\">\n",
              "    <path d=\"M0 0h24v24H0V0z\" fill=\"none\"/>\n",
              "    <path d=\"M18.56 5.44l.94 2.06.94-2.06 2.06-.94-2.06-.94-.94-2.06-.94 2.06-2.06.94zm-11 1L8.5 8.5l.94-2.06 2.06-.94-2.06-.94L8.5 2.5l-.94 2.06-2.06.94zm10 10l.94 2.06.94-2.06 2.06-.94-2.06-.94-.94-2.06-.94 2.06-2.06.94z\"/><path d=\"M17.41 7.96l-1.37-1.37c-.4-.4-.92-.59-1.43-.59-.52 0-1.04.2-1.43.59L10.3 9.45l-7.72 7.72c-.78.78-.78 2.05 0 2.83L4 21.41c.39.39.9.59 1.41.59.51 0 1.02-.2 1.41-.59l7.78-7.78 2.81-2.81c.8-.78.8-2.07 0-2.86zM5.41 20L4 18.59l7.72-7.72 1.47 1.35L5.41 20z\"/>\n",
              "  </svg>\n",
              "      </button>\n",
              "      \n",
              "  <style>\n",
              "    .colab-df-container {\n",
              "      display:flex;\n",
              "      flex-wrap:wrap;\n",
              "      gap: 12px;\n",
              "    }\n",
              "\n",
              "    .colab-df-convert {\n",
              "      background-color: #E8F0FE;\n",
              "      border: none;\n",
              "      border-radius: 50%;\n",
              "      cursor: pointer;\n",
              "      display: none;\n",
              "      fill: #1967D2;\n",
              "      height: 32px;\n",
              "      padding: 0 0 0 0;\n",
              "      width: 32px;\n",
              "    }\n",
              "\n",
              "    .colab-df-convert:hover {\n",
              "      background-color: #E2EBFA;\n",
              "      box-shadow: 0px 1px 2px rgba(60, 64, 67, 0.3), 0px 1px 3px 1px rgba(60, 64, 67, 0.15);\n",
              "      fill: #174EA6;\n",
              "    }\n",
              "\n",
              "    [theme=dark] .colab-df-convert {\n",
              "      background-color: #3B4455;\n",
              "      fill: #D2E3FC;\n",
              "    }\n",
              "\n",
              "    [theme=dark] .colab-df-convert:hover {\n",
              "      background-color: #434B5C;\n",
              "      box-shadow: 0px 1px 3px 1px rgba(0, 0, 0, 0.15);\n",
              "      filter: drop-shadow(0px 1px 2px rgba(0, 0, 0, 0.3));\n",
              "      fill: #FFFFFF;\n",
              "    }\n",
              "  </style>\n",
              "\n",
              "      <script>\n",
              "        const buttonEl =\n",
              "          document.querySelector('#df-910bcefb-3e23-48e3-aecb-4bf2e72cc341 button.colab-df-convert');\n",
              "        buttonEl.style.display =\n",
              "          google.colab.kernel.accessAllowed ? 'block' : 'none';\n",
              "\n",
              "        async function convertToInteractive(key) {\n",
              "          const element = document.querySelector('#df-910bcefb-3e23-48e3-aecb-4bf2e72cc341');\n",
              "          const dataTable =\n",
              "            await google.colab.kernel.invokeFunction('convertToInteractive',\n",
              "                                                     [key], {});\n",
              "          if (!dataTable) return;\n",
              "\n",
              "          const docLinkHtml = 'Like what you see? Visit the ' +\n",
              "            '<a target=\"_blank\" href=https://colab.research.google.com/notebooks/data_table.ipynb>data table notebook</a>'\n",
              "            + ' to learn more about interactive tables.';\n",
              "          element.innerHTML = '';\n",
              "          dataTable['output_type'] = 'display_data';\n",
              "          await google.colab.output.renderOutput(dataTable, element);\n",
              "          const docLink = document.createElement('div');\n",
              "          docLink.innerHTML = docLinkHtml;\n",
              "          element.appendChild(docLink);\n",
              "        }\n",
              "      </script>\n",
              "    </div>\n",
              "  </div>\n",
              "  "
            ]
          },
          "metadata": {},
          "execution_count": 55
        }
      ]
    },
    {
      "cell_type": "code",
      "source": [
        "plt.rcParams['figure.figsize'] = [25, 12]\n",
        "df.hist()\n"
      ],
      "metadata": {
        "colab": {
          "base_uri": "https://localhost:8080/",
          "height": 1000
        },
        "id": "3bOHeaJFCAB5",
        "outputId": "fb3e7a63-06de-4f9d-cc51-9a451acef234"
      },
      "execution_count": 80,
      "outputs": [
        {
          "output_type": "execute_result",
          "data": {
            "text/plain": [
              "array([[<matplotlib.axes._subplots.AxesSubplot object at 0x7fde39e29b80>,\n",
              "        <matplotlib.axes._subplots.AxesSubplot object at 0x7fde3a414160>,\n",
              "        <matplotlib.axes._subplots.AxesSubplot object at 0x7fde39ba53d0>,\n",
              "        <matplotlib.axes._subplots.AxesSubplot object at 0x7fde39b527c0>],\n",
              "       [<matplotlib.axes._subplots.AxesSubplot object at 0x7fde39b7fbb0>,\n",
              "        <matplotlib.axes._subplots.AxesSubplot object at 0x7fde39b2d040>,\n",
              "        <matplotlib.axes._subplots.AxesSubplot object at 0x7fde39b2dfd0>,\n",
              "        <matplotlib.axes._subplots.AxesSubplot object at 0x7fde39ae5460>],\n",
              "       [<matplotlib.axes._subplots.AxesSubplot object at 0x7fde39ac7b80>,\n",
              "        <matplotlib.axes._subplots.AxesSubplot object at 0x7fde39a74f70>,\n",
              "        <matplotlib.axes._subplots.AxesSubplot object at 0x7fde39a2f3a0>,\n",
              "        <matplotlib.axes._subplots.AxesSubplot object at 0x7fde399db790>],\n",
              "       [<matplotlib.axes._subplots.AxesSubplot object at 0x7fde39a09b80>,\n",
              "        <matplotlib.axes._subplots.AxesSubplot object at 0x7fde399b9f70>,\n",
              "        <matplotlib.axes._subplots.AxesSubplot object at 0x7fde399722e0>,\n",
              "        <matplotlib.axes._subplots.AxesSubplot object at 0x7fde3990f880>]],\n",
              "      dtype=object)"
            ]
          },
          "metadata": {},
          "execution_count": 80
        },
        {
          "output_type": "display_data",
          "data": {
            "text/plain": [
              "<Figure size 1800x864 with 16 Axes>"
            ],
            "image/png": "[encoded data removed]"
          },
          "metadata": {}
        }
      ]
    },
    {
      "cell_type": "code",
      "source": [
        "df[['id_cliente','limite_adicional']].groupby('limite_adicional').count().reset_index()"
      ],
      "metadata": {
        "colab": {
          "base_uri": "https://localhost:8080/",
          "height": 112
        },
        "id": "CF_hGNbIEqe2",
        "outputId": "913e4d16-5289-48d3-b6cc-77fc921b8eb3"
      },
      "execution_count": 86,
      "outputs": [
        {
          "output_type": "execute_result",
          "data": {
            "text/plain": [
              "  limite_adicional  id_cliente\n",
              "0         Conceder        1505\n",
              "1            Negar        7995"
            ],
            "text/html": [
              "\n",
              "  <div id=\"df-fb347062-b4b7-4112-a2e7-506ad88a1d60\">\n",
              "    <div class=\"colab-df-container\">\n",
              "      <div>\n",
              "<style scoped>\n",
              "    .dataframe tbody tr th:only-of-type {\n",
              "        vertical-align: middle;\n",
              "    }\n",
              "\n",
              "    .dataframe tbody tr th {\n",
              "        vertical-align: top;\n",
              "    }\n",
              "\n",
              "    .dataframe thead th {\n",
              "        text-align: right;\n",
              "    }\n",
              "</style>\n",
              "<table border=\"1\" class=\"dataframe\">\n",
              "  <thead>\n",
              "    <tr style=\"text-align: right;\">\n",
              "      <th></th>\n",
              "      <th>limite_adicional</th>\n",
              "      <th>id_cliente</th>\n",
              "    </tr>\n",
              "  </thead>\n",
              "  <tbody>\n",
              "    <tr>\n",
              "      <th>0</th>\n",
              "      <td>Conceder</td>\n",
              "      <td>1505</td>\n",
              "    </tr>\n",
              "    <tr>\n",
              "      <th>1</th>\n",
              "      <td>Negar</td>\n",
              "      <td>7995</td>\n",
              "    </tr>\n",
              "  </tbody>\n",
              "</table>\n",
              "</div>\n",
              "      <button class=\"colab-df-convert\" onclick=\"convertToInteractive('df-fb347062-b4b7-4112-a2e7-506ad88a1d60')\"\n",
              "              title=\"Convert this dataframe to an interactive table.\"\n",
              "              style=\"display:none;\">\n",
              "        \n",
              "  <svg xmlns=\"http://www.w3.org/2000/svg\" height=\"24px\"viewBox=\"0 0 24 24\"\n",
              "       width=\"24px\">\n",
              "    <path d=\"M0 0h24v24H0V0z\" fill=\"none\"/>\n",
              "    <path d=\"M18.56 5.44l.94 2.06.94-2.06 2.06-.94-2.06-.94-.94-2.06-.94 2.06-2.06.94zm-11 1L8.5 8.5l.94-2.06 2.06-.94-2.06-.94L8.5 2.5l-.94 2.06-2.06.94zm10 10l.94 2.06.94-2.06 2.06-.94-2.06-.94-.94-2.06-.94 2.06-2.06.94z\"/><path d=\"M17.41 7.96l-1.37-1.37c-.4-.4-.92-.59-1.43-.59-.52 0-1.04.2-1.43.59L10.3 9.45l-7.72 7.72c-.78.78-.78 2.05 0 2.83L4 21.41c.39.39.9.59 1.41.59.51 0 1.02-.2 1.41-.59l7.78-7.78 2.81-2.81c.8-.78.8-2.07 0-2.86zM5.41 20L4 18.59l7.72-7.72 1.47 1.35L5.41 20z\"/>\n",
              "  </svg>\n",
              "      </button>\n",
              "      \n",
              "  <style>\n",
              "    .colab-df-container {\n",
              "      display:flex;\n",
              "      flex-wrap:wrap;\n",
              "      gap: 12px;\n",
              "    }\n",
              "\n",
              "    .colab-df-convert {\n",
              "      background-color: #E8F0FE;\n",
              "      border: none;\n",
              "      border-radius: 50%;\n",
              "      cursor: pointer;\n",
              "      display: none;\n",
              "      fill: #1967D2;\n",
              "      height: 32px;\n",
              "      padding: 0 0 0 0;\n",
              "      width: 32px;\n",
              "    }\n",
              "\n",
              "    .colab-df-convert:hover {\n",
              "      background-color: #E2EBFA;\n",
              "      box-shadow: 0px 1px 2px rgba(60, 64, 67, 0.3), 0px 1px 3px 1px rgba(60, 64, 67, 0.15);\n",
              "      fill: #174EA6;\n",
              "    }\n",
              "\n",
              "    [theme=dark] .colab-df-convert {\n",
              "      background-color: #3B4455;\n",
              "      fill: #D2E3FC;\n",
              "    }\n",
              "\n",
              "    [theme=dark] .colab-df-convert:hover {\n",
              "      background-color: #434B5C;\n",
              "      box-shadow: 0px 1px 3px 1px rgba(0, 0, 0, 0.15);\n",
              "      filter: drop-shadow(0px 1px 2px rgba(0, 0, 0, 0.3));\n",
              "      fill: #FFFFFF;\n",
              "    }\n",
              "  </style>\n",
              "\n",
              "      <script>\n",
              "        const buttonEl =\n",
              "          document.querySelector('#df-fb347062-b4b7-4112-a2e7-506ad88a1d60 button.colab-df-convert');\n",
              "        buttonEl.style.display =\n",
              "          google.colab.kernel.accessAllowed ? 'block' : 'none';\n",
              "\n",
              "        async function convertToInteractive(key) {\n",
              "          const element = document.querySelector('#df-fb347062-b4b7-4112-a2e7-506ad88a1d60');\n",
              "          const dataTable =\n",
              "            await google.colab.kernel.invokeFunction('convertToInteractive',\n",
              "                                                     [key], {});\n",
              "          if (!dataTable) return;\n",
              "\n",
              "          const docLinkHtml = 'Like what you see? Visit the ' +\n",
              "            '<a target=\"_blank\" href=https://colab.research.google.com/notebooks/data_table.ipynb>data table notebook</a>'\n",
              "            + ' to learn more about interactive tables.';\n",
              "          element.innerHTML = '';\n",
              "          dataTable['output_type'] = 'display_data';\n",
              "          await google.colab.output.renderOutput(dataTable, element);\n",
              "          const docLink = document.createElement('div');\n",
              "          docLink.innerHTML = docLinkHtml;\n",
              "          element.appendChild(docLink);\n",
              "        }\n",
              "      </script>\n",
              "    </div>\n",
              "  </div>\n",
              "  "
            ]
          },
          "metadata": {},
          "execution_count": 86
        }
      ]
    },
    {
      "cell_type": "code",
      "source": [
        "df.loc[:,'limite_adicional'].value_counts(normalize=True)"
      ],
      "metadata": {
        "colab": {
          "base_uri": "https://localhost:8080/"
        },
        "id": "hNxD4rSYFTIz",
        "outputId": "8e4f1bd5-1a54-41b2-dd37-7857424e0b1b"
      },
      "execution_count": 88,
      "outputs": [
        {
          "output_type": "execute_result",
          "data": {
            "text/plain": [
              "Negar       0.841579\n",
              "Conceder    0.158421\n",
              "Name: limite_adicional, dtype: float64"
            ]
          },
          "metadata": {},
          "execution_count": 88
        }
      ]
    },
    {
      "cell_type": "markdown",
      "source": [
        "# Feature Selection"
      ],
      "metadata": {
        "id": "KGMLXelbj1jr"
      }
    },
    {
      "cell_type": "code",
      "source": [
        "df1 = df.copy()"
      ],
      "metadata": {
        "id": "5JPhAeCOpstO"
      },
      "execution_count": 91,
      "outputs": []
    },
    {
      "cell_type": "code",
      "source": [
        "\n",
        "features = ['idade', 'saldo_atual', 'divida_atual', 'renda_anual',\n",
        "       'valor_em_investimentos', 'taxa_utilizacao_credito', 'num_emprestimos',\n",
        "       'num_contas_bancarias', 'num_cartoes_credito', 'dias_atraso_dt_venc',\n",
        "       'num_pgtos_atrasados', 'num_consultas_credito', 'taxa_juros']\n",
        "\n",
        "x = df1.loc[:, features]\n",
        "y = df1.loc[:, 'limite_adicional']"
      ],
      "metadata": {
        "id": "2E4vVc_Gpk8R"
      },
      "execution_count": 92,
      "outputs": []
    },
    {
      "cell_type": "markdown",
      "source": [
        "# Treinamento ML"
      ],
      "metadata": {
        "id": "H_0WG9Eay_mv"
      }
    },
    {
      "cell_type": "code",
      "source": [
        "df2 = df1.copy()"
      ],
      "metadata": {
        "id": "Tco1fm2j0x5w"
      },
      "execution_count": 93,
      "outputs": []
    },
    {
      "cell_type": "code",
      "source": [
        "knn_classifier = KNeighborsClassifier (n_neighbors =7)\n"
      ],
      "metadata": {
        "id": "dG3qMrp-zC2m"
      },
      "execution_count": 94,
      "outputs": []
    },
    {
      "cell_type": "code",
      "source": [
        "# training the model\n",
        "knn_classifier.fit(x,y)\n",
        "\n",
        "# make predictions\n",
        "y_pred = knn_classifier.predict(x)\n"
      ],
      "metadata": {
        "id": "TWTeWdOT0N-h"
      },
      "execution_count": 95,
      "outputs": []
    },
    {
      "cell_type": "code",
      "source": [
        "# concat predictions to original dataset \n",
        "df2['predictions'] = y_pred.tolist()\n",
        "df_results = df2.loc[:,['id_cliente', 'idade', 'limite_adicional','predictions']]"
      ],
      "metadata": {
        "id": "G1-pinym0gCY"
      },
      "execution_count": 96,
      "outputs": []
    },
    {
      "cell_type": "markdown",
      "source": [
        "\n",
        "# Acuracia\n"
      ],
      "metadata": {
        "id": "kzelR8sx_9GP"
      }
    },
    {
      "cell_type": "code",
      "source": [
        " mt.confusion_matrix(y,y_pred)"
      ],
      "metadata": {
        "colab": {
          "base_uri": "https://localhost:8080/"
        },
        "id": "Qp_fZpa6AEH3",
        "outputId": "5444a8bf-5382-4f86-c425-c702b3290f25"
      },
      "execution_count": 98,
      "outputs": [
        {
          "output_type": "execute_result",
          "data": {
            "text/plain": [
              "array([[ 369, 1136],\n",
              "       [ 203, 7792]])"
            ]
          },
          "metadata": {},
          "execution_count": 98
        }
      ]
    },
    {
      "cell_type": "markdown",
      "source": [
        "Linhas indicam os labels reais e as colunas os labels preditos. TP = 369, TN = 7792. \n",
        "\n",
        "`Acuracia = TP + TN / TP+FP+FN+TN`"
      ],
      "metadata": {
        "id": "3fsItOckGdz6"
      }
    },
    {
      "cell_type": "code",
      "source": [
        "mt.accuracy_score(y,y_pred)"
      ],
      "metadata": {
        "colab": {
          "base_uri": "https://localhost:8080/"
        },
        "id": "0unKRq5QHSG5",
        "outputId": "6cd3e069-d23c-41cf-d4a2-f61247372ab8"
      },
      "execution_count": 99,
      "outputs": [
        {
          "output_type": "execute_result",
          "data": {
            "text/plain": [
              "0.8590526315789474"
            ]
          },
          "metadata": {},
          "execution_count": 99
        }
      ]
    },
    {
      "cell_type": "markdown",
      "source": [
        "# Precision"
      ],
      "metadata": {
        "id": "74f7CakVAGXb"
      }
    },
    {
      "cell_type": "code",
      "source": [
        "y.values"
      ],
      "metadata": {
        "colab": {
          "base_uri": "https://localhost:8080/"
        },
        "id": "DHBTCz9jIIHp",
        "outputId": "36b39cf7-606e-4584-d7ab-a7c3531a4e6d"
      },
      "execution_count": 102,
      "outputs": [
        {
          "output_type": "execute_result",
          "data": {
            "text/plain": [
              "array(['Negar', 'Negar', 'Negar', ..., 'Negar', 'Negar', 'Negar'],\n",
              "      dtype=object)"
            ]
          },
          "metadata": {},
          "execution_count": 102
        }
      ]
    },
    {
      "cell_type": "code",
      "source": [
        "y_pred"
      ],
      "metadata": {
        "colab": {
          "base_uri": "https://localhost:8080/"
        },
        "id": "q7Zm72VpIKRO",
        "outputId": "5f6c53b7-ce78-47cf-8722-fcf7cab269a2"
      },
      "execution_count": 103,
      "outputs": [
        {
          "output_type": "execute_result",
          "data": {
            "text/plain": [
              "array(['Negar', 'Negar', 'Negar', ..., 'Negar', 'Negar', 'Negar'],\n",
              "      dtype=object)"
            ]
          },
          "metadata": {},
          "execution_count": 103
        }
      ]
    },
    {
      "cell_type": "code",
      "source": [
        "mt.precision_score(y.values,y_pred, pos_label='Conceder')"
      ],
      "metadata": {
        "colab": {
          "base_uri": "https://localhost:8080/"
        },
        "id": "sxCDonfjH59L",
        "outputId": "6bfea809-46f1-4b7e-bd4f-0f29b27a53a2"
      },
      "execution_count": 105,
      "outputs": [
        {
          "output_type": "execute_result",
          "data": {
            "text/plain": [
              "0.6451048951048951"
            ]
          },
          "metadata": {},
          "execution_count": 105
        }
      ]
    },
    {
      "cell_type": "markdown",
      "source": [
        "Precisao diz quantos rotulos TP dentre todas as previsoes POSITIVE do modelo. Nesse caso, acertou 64% de todas as POSITIVE dadas pelo modelo"
      ],
      "metadata": {
        "id": "Cifh7dTsIoMR"
      }
    },
    {
      "cell_type": "markdown",
      "source": [
        "# Recall \n"
      ],
      "metadata": {
        "id": "IRIaf2eFAG2R"
      }
    },
    {
      "cell_type": "code",
      "source": [
        "mt.recall_score(y.values,y_pred,pos_label='Conceder')"
      ],
      "metadata": {
        "colab": {
          "base_uri": "https://localhost:8080/"
        },
        "id": "b27Mh67MI9TI",
        "outputId": "6814349a-4136-48cb-94cd-f90c1f6560a9"
      },
      "execution_count": 106,
      "outputs": [
        {
          "output_type": "execute_result",
          "data": {
            "text/plain": [
              "0.24518272425249169"
            ]
          },
          "metadata": {},
          "execution_count": 106
        }
      ]
    },
    {
      "cell_type": "markdown",
      "source": [
        "Recall diz o quanto acertou das labels positivas dentre todas as classes positivas. Nesse caso, 24,5%. "
      ],
      "metadata": {
        "id": "vhmkXUNLJack"
      }
    }
  ]
}